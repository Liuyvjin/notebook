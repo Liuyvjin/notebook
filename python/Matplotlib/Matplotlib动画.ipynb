{
 "cells": [
  {
   "cell_type": "markdown",
   "metadata": {},
   "source": [
    "# Matplotlib 动画\n",
    "\n",
    "`Matplotlib` 中的 `animation` 模块可用于制作动画。"
   ]
  },
  {
   "cell_type": "code",
   "execution_count": 1,
   "metadata": {
    "collapsed": true
   },
   "outputs": [],
   "source": [
    "%matplotlib inline\n",
    "from matplotlib import pyplot as plt\n",
    "from matplotlib import animation\n",
    "import numpy as np"
   ]
  },
  {
   "cell_type": "markdown",
   "metadata": {},
   "source": [
    "## animation.FuncAnimation()\n",
    "\n",
    "该函数可用于定义一个动画\n",
    "```\n",
    "ani = animation.FuncAnimation(fig=fig,\n",
    "                  func=ani_fun,\n",
    "                  frames=100,\n",
    "                  init_func=init,\n",
    "                  interval=20,\n",
    "                  blit=False)\n",
    "```\n",
    "\n",
    "**参数：**\n",
    "\n",
    "1. fig - 进行动画绘制的figure\n",
    "2. func - 自定义动画函数，有一输入参数i，参数范围 `0~frames`，对应动画的每一帧，返回值是一帧\n",
    "3. frames - 动画的帧数\n",
    "4. init_func - 返回开始帧，即初始画面\n",
    "5. interval - 每帧的间隔，以ms计\n",
    "6. blit - `False` 表示更新所有点，`True` 仅更新产生变化的点。应选择True，但mac用户请选择False，否则无法显示动画\n",
    "\n",
    "**保存动画：**\n",
    "\n",
    "ani.save('basic_animation.mp4', fps=30, extra_args=['-vcodec', 'libx264'])\n"
   ]
  },
  {
   "cell_type": "code",
   "execution_count": 25,
   "metadata": {},
   "outputs": [
    {
     "data": {
      "image/png": "[encoded data removed]",
      "text/plain": [
       "<matplotlib.figure.Figure at 0x22ac7ce5080>"
      ]
     },
     "metadata": {},
     "output_type": "display_data"
    }
   ],
   "source": [
    "fig = plt.figure()\n",
    "\n",
    "# 产生数据\n",
    "x = np.linspace(0, 2*np.pi, 100)\n",
    "y = np.sin(x)\n",
    "\n",
    "# 得到绘图对象line，注意要加“,”，之后每帧通过更新line得到\n",
    "line, = plt.plot(x, y)\n",
    "\n",
    "# 创建初始函数和动画函数\n",
    "def init():\n",
    "    line.set_ydata(y)  # 更新 line 中的 y 数据\n",
    "    return line,\n",
    "def ani_fun(i):\n",
    "    line.set_ydate(np.concatenate((y[i:],x[:i])))\n",
    "    return line,\n",
    "\n",
    "# 生成动画\n",
    "ani = animation.FuncAnimation(fig=fig,\n",
    "                              func=ani_fun,\n",
    "                              frames=100,\n",
    "                              init_func=init,\n",
    "                              interval=20,\n",
    "                              blit=False)\n",
    "# 显示动画\n",
    "plt.show()"
   ]
  }
 ],
 "metadata": {
  "kernelspec": {
   "display_name": "Python 3",
   "language": "python",
   "name": "python3"
  },
  "language_info": {
   "codemirror_mode": {
    "name": "ipython",
    "version": 3
   },
   "file_extension": ".py",
   "mimetype": "text/x-python",
   "name": "python",
   "nbconvert_exporter": "python",
   "pygments_lexer": "ipython3",
   "version": "3.6.3"
  }
 },
 "nbformat": 4,
 "nbformat_minor": 2
}
